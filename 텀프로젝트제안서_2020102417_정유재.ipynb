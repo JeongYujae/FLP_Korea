{
 "cells": [
  {
   "cell_type": "markdown",
   "metadata": {},
   "source": [
    "<h2>1. 주제: <strong>최근 10년간 지역별 부동산 지가 변동률 분석</strong></h2>"
   ]
  },
  {
   "cell_type": "markdown",
   "metadata": {},
   "source": [
    "<h3>2. 주제 선정 이유</h3>최근 10년간 부동산 지가가 꾸준히 상승하면서 많은 투자 자본이 부동산 분야로 집중되었다.<br>지역별로 수요와 공급이 다르기에, 지가 변동률 또한 다를 것으로 예상된다.<br>상승하는 부동산 지가 통제를 목적으로 정부에서 많은 정책을 마련했지만,의미 있는 결과를 불러오지 못했다.<br>특히, 수도권의 지가와 수도권외 지역들의 지가의 차이가 크며, 수도권외 지역들은 불안정한 시가 추세를 보이고 있다.<br> 수도권외 지역에도 부동산 투자 수요를 증가시키기 위한 정책이 필요하다는 의견을 뒷받침할 데이터 자료를 분석하겠다."
   ]
  },
  {
   "cell_type": "markdown",
   "metadata": {},
   "source": [
    "<h3>3. 가설 정의</h3>동년 수도권 지역에 투자했을 때의 수익과, 수도권외 지방들에 투자했을 때의 수익을 비교하여 수도권외 지역의 부동산 투자 유도 정책의 필요성에 근거할 시각화 자료 분석"
   ]
  },
  {
   "cell_type": "markdown",
   "metadata": {},
   "source": [
    "<h3>4. 데이터 획득 계획</h3><br><strong>1. 한국 부동산원 부동산통계정보시스템의 공개자료실 정보</strong><br>(https://www.reb.or.kr/r-one/main.do)<strong><br>2. 공공데이터 포털의 지가 변동 지표</strong><br>(https://www.data.go.kr/index.do)<br><strong>3. Library</strong><ul><li>Pandas</li>https://pandas.pydata.org/<li>matplotlib</li>https://matplotlib.org/</ul>"
   ]
  }
 ],
 "metadata": {
  "kernelspec": {
   "display_name": "Python 3",
   "language": "python",
   "name": "python3"
  },
  "language_info": {
   "codemirror_mode": {
    "name": "ipython",
    "version": 3
   },
   "file_extension": ".py",
   "mimetype": "text/x-python",
   "name": "python",
   "nbconvert_exporter": "python",
   "pygments_lexer": "ipython3",
   "version": "3.8.8"
  },
  "vscode": {
   "interpreter": {
    "hash": "e4cce46d6be9934fbd27f9ca0432556941ea5bdf741d4f4d64c6cd7f8dfa8fba"
   }
  }
 },
 "nbformat": 4,
 "nbformat_minor": 2
}
