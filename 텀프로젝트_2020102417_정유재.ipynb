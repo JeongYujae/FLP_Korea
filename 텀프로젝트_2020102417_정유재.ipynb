{
 "cells": [
  {
   "cell_type": "code",
   "execution_count": null,
   "metadata": {},
   "outputs": [],
   "source": [
    "import pandas as pd\n",
    "df= pd.read_csv('지가변동률_연도별.csv',encoding='cp949')\n",
    "df=df.loc[:454]\n",
    "df"
   ]
  },
  {
   "cell_type": "markdown",
   "metadata": {},
   "source": [
    "목표로 하는 기간인 2000년 ~ 2021년 중, 2000년 부터 2012년까지의 수도권과 지방 데이터가 존재하지 않는다<br>\n",
    "해당 년도의 지가변동 지표들의 평균을 따로 계산하여 부재한 지가변동률 데이터를 만들겠다 "
   ]
  },
  {
   "cell_type": "code",
   "execution_count": null,
   "metadata": {},
   "outputs": [],
   "source": [
    "# 수도권 지가변동률 평균 구하기\n",
    "def calculate_average_capital_area(x):\n",
    "    target=str(x)+'년'\n",
    "    target_data= df[f'{target}']\n",
    "    target_list=[]\n",
    "    for x in target_data[8:34]:\n",
    "        if x != '-':\n",
    "            target_list.append(float(x))\n",
    "    for x in target_data[81:93]:\n",
    "        if x != '-':\n",
    "            target_list.append(float(x))\n",
    "    for x in target_data[94:100]:\n",
    "        if x != '-':\n",
    "            target_list.append(float(x))\n",
    "    for x in target_data[132:207]:\n",
    "        if x != '-':\n",
    "            target_list.append(float(x))\n",
    "\n",
    "    result=(sum(target_list)/len(target_list))\n",
    "    result=round(result,2)\n",
    "    return(result)\n",
    "\n",
    "for x in range(2000,2013):\n",
    "    print(f'{x}년:',calculate_average_capital_area(x))"
   ]
  },
  {
   "cell_type": "code",
   "execution_count": 102,
   "metadata": {},
   "outputs": [
    {
     "name": "stdout",
     "output_type": "stream",
     "text": [
      "2000년: nan\n",
      "2001년: nan\n",
      "2002년: nan\n",
      "2003년: nan\n",
      "2004년: nan\n",
      "2005년: nan\n",
      "2006년: nan\n",
      "2007년: nan\n",
      "2008년: nan\n",
      "2009년: nan\n",
      "2010년: nan\n",
      "2011년: nan\n"
     ]
    },
    {
     "ename": "ValueError",
     "evalue": "could not convert string to float: '.'",
     "output_type": "error",
     "traceback": [
      "\u001b[1;31m---------------------------------------------------------------------------\u001b[0m",
      "\u001b[1;31mValueError\u001b[0m                                Traceback (most recent call last)",
      "\u001b[1;32m<ipython-input-102-072b840e6bae>\u001b[0m in \u001b[0;36m<module>\u001b[1;34m\u001b[0m\n\u001b[0;32m     58\u001b[0m \u001b[1;33m\u001b[0m\u001b[0m\n\u001b[0;32m     59\u001b[0m \u001b[1;32mfor\u001b[0m \u001b[0mx\u001b[0m \u001b[1;32min\u001b[0m \u001b[0mrange\u001b[0m\u001b[1;33m(\u001b[0m\u001b[1;36m2000\u001b[0m\u001b[1;33m,\u001b[0m\u001b[1;36m2013\u001b[0m\u001b[1;33m)\u001b[0m\u001b[1;33m:\u001b[0m\u001b[1;33m\u001b[0m\u001b[1;33m\u001b[0m\u001b[0m\n\u001b[1;32m---> 60\u001b[1;33m     \u001b[0mprint\u001b[0m\u001b[1;33m(\u001b[0m\u001b[1;34mf'{x}년:'\u001b[0m\u001b[1;33m,\u001b[0m\u001b[0mcalculate_average_not_capital_area\u001b[0m\u001b[1;33m(\u001b[0m\u001b[0mx\u001b[0m\u001b[1;33m)\u001b[0m\u001b[1;33m)\u001b[0m\u001b[1;33m\u001b[0m\u001b[1;33m\u001b[0m\u001b[0m\n\u001b[0m",
      "\u001b[1;32m<ipython-input-102-072b840e6bae>\u001b[0m in \u001b[0;36mcalculate_average_not_capital_area\u001b[1;34m(x)\u001b[0m\n\u001b[0;32m     24\u001b[0m     \u001b[1;32mfor\u001b[0m \u001b[0mx\u001b[0m \u001b[1;32min\u001b[0m \u001b[0mtarget_data\u001b[0m\u001b[1;33m[\u001b[0m\u001b[1;36m130\u001b[0m\u001b[1;33m]\u001b[0m\u001b[1;33m:\u001b[0m\u001b[1;33m\u001b[0m\u001b[1;33m\u001b[0m\u001b[0m\n\u001b[0;32m     25\u001b[0m         \u001b[1;32mif\u001b[0m \u001b[0mx\u001b[0m \u001b[1;33m!=\u001b[0m \u001b[1;34m'-'\u001b[0m\u001b[1;33m:\u001b[0m\u001b[1;33m\u001b[0m\u001b[1;33m\u001b[0m\u001b[0m\n\u001b[1;32m---> 26\u001b[1;33m             \u001b[0mtarget_list\u001b[0m\u001b[1;33m.\u001b[0m\u001b[0mappend\u001b[0m\u001b[1;33m(\u001b[0m\u001b[0mfloat\u001b[0m\u001b[1;33m(\u001b[0m\u001b[0mx\u001b[0m\u001b[1;33m)\u001b[0m\u001b[1;33m)\u001b[0m\u001b[1;33m\u001b[0m\u001b[1;33m\u001b[0m\u001b[0m\n\u001b[0m\u001b[0;32m     27\u001b[0m     \u001b[1;32mfor\u001b[0m \u001b[0mx\u001b[0m \u001b[1;32min\u001b[0m \u001b[0mtarget_data\u001b[0m\u001b[1;33m[\u001b[0m\u001b[1;36m210\u001b[0m\u001b[1;33m:\u001b[0m\u001b[1;36m234\u001b[0m\u001b[1;33m]\u001b[0m\u001b[1;33m:\u001b[0m\u001b[1;33m\u001b[0m\u001b[1;33m\u001b[0m\u001b[0m\n\u001b[0;32m     28\u001b[0m         \u001b[1;32mif\u001b[0m \u001b[0mx\u001b[0m \u001b[1;33m!=\u001b[0m \u001b[1;34m'-'\u001b[0m\u001b[1;33m:\u001b[0m\u001b[1;33m\u001b[0m\u001b[1;33m\u001b[0m\u001b[0m\n",
      "\u001b[1;31mValueError\u001b[0m: could not convert string to float: '.'"
     ]
    }
   ],
   "source": [
    "# 비수도권 평균 구하기\n",
    "def calculate_average_not_capital_area(x):\n",
    "    target=str(x)+'년'\n",
    "    target_data= df[f'{target}']\n",
    "    target_list=[]\n",
    "    for x in target_data[52:64]:\n",
    "        if x != '-':\n",
    "            target_list.append(float(x))\n",
    "    for x in target_data[65:73]:\n",
    "        if x != '-':\n",
    "            target_list.append(float(x))\n",
    "    for x in target_data[74:81]:\n",
    "        if x != '-':\n",
    "            target_list.append(float(x))\n",
    "    for x in target_data[112:117]:\n",
    "        if x != '-':\n",
    "            target_list.append(float(x))\n",
    "    for x in target_data[118:123]:\n",
    "        if x != '-':\n",
    "            target_list.append(float(x))\n",
    "    for x in target_data[124:129]:\n",
    "        if x != '-':\n",
    "            target_list.append(float(x))\n",
    "    for x in target_data[130]:\n",
    "        if x != '-':\n",
    "            target_list.append(float(x))\n",
    "    for x in target_data[210:234]:\n",
    "        if x != '-':\n",
    "            target_list.append(float(x))\n",
    "    for x in target_data[237:259]:\n",
    "        if x != '-':\n",
    "            target_list.append(float(x))\n",
    "    for x in target_data[260:295]:\n",
    "        if x != '-':\n",
    "            target_list.append(float(x))\n",
    "\n",
    "    for x in target_data[298:321]:\n",
    "        if x != '-':\n",
    "            target_list.append(float(x))\n",
    "    for x in target_data[324:354]:\n",
    "        if x != '-':\n",
    "            target_list.append(float(x))\n",
    "\n",
    "    for x in target_data[357:396]:\n",
    "        if x != '-':\n",
    "            target_list.append(float(x))\n",
    "\n",
    "    for x in target_data[399:447]:\n",
    "        if x != '-':\n",
    "            target_list.append(float(x))\n",
    "    for x in target_data[450:455]:\n",
    "        if x != '-':\n",
    "            target_list.append(float(x))\n",
    "\n",
    "    result=(sum(target_list)/len(target_list))\n",
    "    result=round(result,2)\n",
    "    return(result)\n",
    "\n",
    "for x in range(2000,2013):\n",
    "    print(f'{x}년:',calculate_average_not_capital_area(x))"
   ]
  }
 ],
 "metadata": {
  "kernelspec": {
   "display_name": "Python 3.8.8 ('base')",
   "language": "python",
   "name": "python3"
  },
  "language_info": {
   "codemirror_mode": {
    "name": "ipython",
    "version": 3
   },
   "file_extension": ".py",
   "mimetype": "text/x-python",
   "name": "python",
   "nbconvert_exporter": "python",
   "pygments_lexer": "ipython3",
   "version": "3.8.8"
  },
  "orig_nbformat": 4,
  "vscode": {
   "interpreter": {
    "hash": "e4cce46d6be9934fbd27f9ca0432556941ea5bdf741d4f4d64c6cd7f8dfa8fba"
   }
  }
 },
 "nbformat": 4,
 "nbformat_minor": 2
}
