{
 "cells": [
  {
   "cell_type": "code",
   "execution_count": 43,
   "metadata": {},
   "outputs": [],
   "source": [
    "import pandas as pd\n",
    "df= pd.read_csv('지가변동률_연도별.csv',encoding='cp949')\n",
    "df=df.loc[:454]\n"
   ]
  },
  {
   "cell_type": "markdown",
   "metadata": {},
   "source": [
    "목표로 하는 기간인 2000년 ~ 2021년 중, 2000년 부터 2012년까지의 수도권과 지방 데이터가 존재하지 않는다<br>\n",
    "해당 년도의 지가변동 지표들의 평균을 따로 계산하여 부재한 지가변동률 데이터를 만들겠다 "
   ]
  },
  {
   "cell_type": "code",
   "execution_count": 58,
   "metadata": {},
   "outputs": [],
   "source": [
    "# 수도권 지가변동률 평균 구하기\n",
    "def calculate_average_capital_area(x):\n",
    "    target=str(x)+'년'\n",
    "    target_data= df[f'{target}']\n",
    "    target_list=[]\n",
    "    for x in target_data[6:33]:\n",
    "        if x != '-':\n",
    "            target_list.append(float(x))\n",
    "    for x in target_data[79:92]:\n",
    "        if x != '-':\n",
    "            target_list.append(float(x))\n",
    "    for x in target_data[92:98]:\n",
    "        if x != '-':\n",
    "            target_list.append(float(x))\n",
    "    for x in target_data[130:206]:\n",
    "        if x != '-':\n",
    "            target_list.append(float(x))\n",
    "\n",
    "    result=(sum(target_list)/len(target_list))\n",
    "    result=round(result,2)\n",
    "    return(result)\n",
    "\n",
    "# for x in range(2000,2013):\n",
    "#     print(f'{x}년:',calculate_average_capital_area(x))"
   ]
  },
  {
   "cell_type": "code",
   "execution_count": 51,
   "metadata": {},
   "outputs": [
    {
     "data": {
      "text/plain": [
       "1.14"
      ]
     },
     "execution_count": 51,
     "metadata": {},
     "output_type": "execute_result"
    }
   ],
   "source": [
    "# 비수도권 지가변동률 평균 구하기\n",
    "def calculate_average_non_capital_area(x):\n",
    "    target=str(x)+'년'\n",
    "    target_data= df[f'{target}']\n",
    "    target_list=[]\n",
    "    for x in target_data[50:63]:\n",
    "        if x != '-':\n",
    "            target_list.append(float(x))\n",
    "    for x in target_data[63:72]:\n",
    "        if x != '-':\n",
    "            target_list.append(float(x))\n",
    "    for x in target_data[72:80]:\n",
    "        if x != '-':\n",
    "            target_list.append(float(x))\n",
    "    for x in target_data[109:116]:\n",
    "        if x != '-':\n",
    "            target_list.append(float(x))\n",
    "    for x in target_data[116:122]:\n",
    "        if x != '-':\n",
    "            target_list.append(float(x))\n",
    "    for x in target_data[122:128]:\n",
    "        if x != '-':\n",
    "            target_list.append(float(x))\n",
    "    for x in target_data[128]: #이거 다시 한번 체그해보기\n",
    "        if x != '-':\n",
    "            target_list.append(float(x))\n",
    "    for x in target_data[208:233]:\n",
    "        if x != '-':\n",
    "            target_list.append(float(x))\n",
    "    for x in target_data[235:258]:\n",
    "        if x != '-':\n",
    "            target_list.append(float(x))\n",
    "    for x in target_data[258:294]:\n",
    "        if x != '-':\n",
    "            target_list.append(float(x))\n",
    "    for x in target_data[296:320]:\n",
    "        if x != '-':\n",
    "            target_list.append(float(x))\n",
    "    for x in target_data[322:353]:\n",
    "        if x != '-':\n",
    "            target_list.append(float(x))\n",
    "    for x in target_data[355:395]:\n",
    "        if x != '-':\n",
    "            target_list.append(float(x))\n",
    "    for x in target_data[397:446]:\n",
    "        if x != '-':\n",
    "            target_list.append(float(x))\n",
    "    for x in target_data[448:453]:\n",
    "        if x != '-':\n",
    "            target_list.append(float(x))\n",
    "    \n",
    "    result=(sum(target_list)/len(target_list))\n",
    "    result=round(result,2)\n",
    "    return(result)\n"
   ]
  },
  {
   "cell_type": "code",
   "execution_count": 64,
   "metadata": {},
   "outputs": [
    {
     "name": "stdout",
     "output_type": "stream",
     "text": [
      "바뀐버전 1.07\n",
      "바뀐버전 1.14\n",
      "바뀐버전 1.76\n",
      "바뀐버전 0.64\n",
      "바뀐버전 12.62\n",
      "바뀐버전 1.89\n",
      "바뀐버전 4.39\n",
      "바뀐버전 1.32\n",
      "바뀐버전 4.96\n",
      "바뀐버전 2.61\n",
      "바뀐버전 5.48\n",
      "바뀐버전 3.19\n",
      "바뀐버전 6.09\n",
      "바뀐버전 2.8\n",
      "바뀐버전 4.61\n",
      "바뀐버전 1.57\n",
      "바뀐버전 -0.36\n",
      "바뀐버전 -0.04\n",
      "바뀐버전 1.31\n",
      "바뀐버전 0.24\n",
      "바뀐버전 1.18\n",
      "바뀐버전 0.93\n",
      "바뀐버전 1.16\n",
      "바뀐버전 0.96\n"
     ]
    }
   ],
   "source": [
    "#데이터 프레임의 값을 수정하기\n",
    "for x in range(2000,2012):\n",
    "    target=str(x)+'년'\n",
    "    df.at[1,target]= calculate_average_capital_area(x)\n",
    "    df.at[2,target]= calculate_average_non_capital_area(x)\n"
   ]
  },
  {
   "cell_type": "code",
   "execution_count": 84,
   "metadata": {},
   "outputs": [],
   "source": [
    "# for col in df.values:\n",
    "#     print(col)\n",
    "\n",
    "capital=df.loc[1][28:]\n",
    "none_capital=df.loc[2][28:]"
   ]
  },
  {
   "cell_type": "code",
   "execution_count": 132,
   "metadata": {},
   "outputs": [],
   "source": [
    "capital_series=df.loc[1][28:]\n",
    "none_capital_series=df.loc[2][28:]\n",
    "\n",
    "capital_df=pd.DataFrame(capital_series)\n",
    "capital_df = capital_df.rename({1:'Capital_FLP'},axis=1)\n",
    "none_capital_df=pd.DataFrame(none_capital_series)\n",
    "none_capital_df = none_capital_df.rename({2:'None_Capital_FLP'},axis=1)\n",
    "\n",
    "\n"
   ]
  },
  {
   "cell_type": "code",
   "execution_count": 137,
   "metadata": {},
   "outputs": [
    {
     "name": "stderr",
     "output_type": "stream",
     "text": [
      "c:\\Anaconda3\\lib\\site-packages\\matplotlib\\backends\\backend_agg.py:238: RuntimeWarning: Glyph 45380 missing from current font.\n",
      "  font.set_text(s, 0.0, flags=flags)\n",
      "c:\\Anaconda3\\lib\\site-packages\\matplotlib\\backends\\backend_agg.py:238: RuntimeWarning: Glyph 49884 missing from current font.\n",
      "  font.set_text(s, 0.0, flags=flags)\n",
      "c:\\Anaconda3\\lib\\site-packages\\matplotlib\\backends\\backend_agg.py:238: RuntimeWarning: Glyph 44036 missing from current font.\n",
      "  font.set_text(s, 0.0, flags=flags)\n",
      "c:\\Anaconda3\\lib\\site-packages\\matplotlib\\backends\\backend_agg.py:201: RuntimeWarning: Glyph 45380 missing from current font.\n",
      "  font.set_text(s, 0, flags=flags)\n",
      "c:\\Anaconda3\\lib\\site-packages\\matplotlib\\backends\\backend_agg.py:201: RuntimeWarning: Glyph 49884 missing from current font.\n",
      "  font.set_text(s, 0, flags=flags)\n",
      "c:\\Anaconda3\\lib\\site-packages\\matplotlib\\backends\\backend_agg.py:201: RuntimeWarning: Glyph 44036 missing from current font.\n",
      "  font.set_text(s, 0, flags=flags)\n"
     ]
    },
    {
     "data": {
      "image/png": "[encoded data removed]",
      "text/plain": [
       "<Figure size 432x288 with 1 Axes>"
      ]
     },
     "metadata": {
      "needs_background": "light"
     },
     "output_type": "display_data"
    }
   ],
   "source": [
    "\n",
    "import matplotlib.pyplot as plt\n",
    "\n",
    "capital_df['Capital_FLP']=capital_df['Capital_FLP'].astype(float)\n",
    "none_capital_df['None_Capital_FLP']=none_capital_df['None_Capital_FLP'].astype(float)\n",
    "\n",
    "capital_df.plot()\n",
    "plt.title(\"\")\n",
    "plt.xlabel(\"시간\")\n",
    "plt.ylabel(\"Data\")\n",
    "plt.show()"
   ]
  }
 ],
 "metadata": {
  "kernelspec": {
   "display_name": "Python 3.8.8 ('base')",
   "language": "python",
   "name": "python3"
  },
  "language_info": {
   "codemirror_mode": {
    "name": "ipython",
    "version": 3
   },
   "file_extension": ".py",
   "mimetype": "text/x-python",
   "name": "python",
   "nbconvert_exporter": "python",
   "pygments_lexer": "ipython3",
   "version": "3.8.8"
  },
  "orig_nbformat": 4,
  "vscode": {
   "interpreter": {
    "hash": "e4cce46d6be9934fbd27f9ca0432556941ea5bdf741d4f4d64c6cd7f8dfa8fba"
   }
  }
 },
 "nbformat": 4,
 "nbformat_minor": 2
}
