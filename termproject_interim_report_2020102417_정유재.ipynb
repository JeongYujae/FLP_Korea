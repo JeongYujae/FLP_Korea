{
 "cells": [
  {
   "cell_type": "markdown",
   "metadata": {},
   "source": [
    "<h2>주제: <strong>최근 10년간 지역별 부동산 지가 변동률 분석</strong></h2>"
   ]
  },
  {
   "cell_type": "markdown",
   "metadata": {},
   "source": [
    "<h3>1. 주제 선정 이유</h3>최근 10년간 부동산 지가가 꾸준히 상승하면서 많은 투자 자본이 부동산 분야로 집중되었다.<br>지역별로 수요와 공급이 다르기에, 지가 변동률 또한 다를 것으로 예상된다.<br>상승하는 부동산 지가 통제를 목적으로 정부에서 많은 정책을 마련했지만,의미 있는 결과를 불러오지 못했다.<br>특히, 수도권의 지가와 수도권외 지역들의 지가의 차이가 크며, 수도권외 지역들은 불안정한 시가 추세를 보이고 있다.<br> 수도권외 지역에도 부동산 투자 수요를 증가시키기 위한 정책이 필요하다는 의견을 뒷받침할 데이터 자료를 분석하겠다."
   ]
  },
  {
   "cell_type": "markdown",
   "metadata": {},
   "source": [
    "<h3>2. 가설 정의</h3>동년 수도권 지역에 투자했을 때의 수익과, 수도권외 지방들에 투자했을 때의 수익을 비교하여 수도권외 지역의 부동산 투자 유도 정책의 필요성에 근거할 시각화 자료 분석"
   ]
  },
  {
   "cell_type": "markdown",
   "metadata": {},
   "source": [
    "<h3>3. 데이터 획득 계획</h3><br><strong>1. 한국 부동산원 부동산통계정보시스템의 공개자료실 정보</strong><br>(https://www.reb.or.kr/r-one/main.do)<br>\n",
    "<h5>\"지가변동률_연도별.csv\"파일 분석<br> \"아파트_매매_실거라가.csv\"파일 분석<h5>\n"
   ]
  },
  {
   "cell_type": "markdown",
   "metadata": {},
   "source": [
    "<h3>4. 분석을 위한 데이터의 가공</h3><strong>\n",
    "\n",
    "<ul>\n",
    "    <li>\n",
    "    목표로 하는 기간인 2006년 ~ 2021년 중, 2006년 부터 2012년까지의 수도권과 지방 데이터가 존재하지 않는다<br>\n",
    "    해당 년도의 지가변동 지표들의 평균을 따로 계산되어 있지 않아, 지가변동률 데이터를의 평균을 개산 \n",
    "    </li>\n",
    "    <li>\n",
    "    2006년 ~ 2021년까지의 지가변동률 데이터를 새로운 dataframe 형태로 생성\n",
    "    </li>\n",
    "    <li>\n",
    "    시각화\n",
    "    </li>\n",
    "</ul>"
   ]
  },
  {
   "cell_type": "markdown",
   "metadata": {},
   "source": [
    "<strong><h3>5. 분석 결과 도출</h3></strong>\n",
    "지가변동률과 아파트 매매 실거래가의 상관관계를 분석하기 위해,단순선형회기분석을 진행하였다.<br>\n",
    "R squared 가 0.4 이상이면 유의미한 통계라 판단하고,\n",
    "prob(F-statistics)가 0.05 이하면 굉장히 유의미한 상관관계라 판단한다."
   ]
  },
  {
   "cell_type": "markdown",
   "metadata": {},
   "source": [
    "<strong><h3>6. 결론</h3></strong>\n",
    "수도권 지역에서는 지가변동률과 아파트 매매 실거래가 사이의 낮은 상관관계를 지닌다.<br>R squared:뭐시기, prob(F-statistics): 뭐시기<br> 상관관계가 크지 않은 것으로 나타났다.\n",
    "반면, 비수도권 지역에서는 수도권보다 높은 상관관계를 지닌다.<br>R squared:뭐시기, prob(F-statistics):<br>\n",
    "R squared 지수와 F-statistics 지수 분석 결과, 완벽한 인과관계를 지니지는 않았다.<br>\n",
    "실거래에 미치는 요소들 중 지가를 제외한 요소들의 영향력은 지역 불문 존재한다.<br>\n",
    "비수도권 지역은 지가가 아파트 실거래가에 더 많은 영향을 미치고, 수도권 지역은 지가 외적인 요소들의 영향을 비교적 더 많이 받는다는 결론이 도출 가능하다."
   ]
  },
  {
   "cell_type": "markdown",
   "metadata": {},
   "source": [
    "<strong><h3>10. 별첨</h3></strong>"
   ]
  },
  {
   "cell_type": "code",
   "execution_count": 1,
   "metadata": {},
   "outputs": [],
   "source": [
    "import pandas as pd\n",
    "df= pd.read_csv('지가변동률_연도별.csv',encoding='cp949')\n",
    "df=df.loc[:454]\n"
   ]
  },
  {
   "cell_type": "code",
   "execution_count": 2,
   "metadata": {},
   "outputs": [],
   "source": [
    "# 수도권 지가변동률 평균 구하기\n",
    "def calculate_average_capital_area(x):\n",
    "    target=str(x)+'년'\n",
    "    target_data= df[f'{target}']\n",
    "    target_list=[]\n",
    "    for x in target_data[6:33]:\n",
    "        if x != '-':\n",
    "            target_list.append(float(x))\n",
    "    for x in target_data[79:92]:\n",
    "        if x != '-':\n",
    "            target_list.append(float(x))\n",
    "    for x in target_data[92:98]:\n",
    "        if x != '-':\n",
    "            target_list.append(float(x))\n",
    "    for x in target_data[130:206]:\n",
    "        if x != '-':\n",
    "            target_list.append(float(x))\n",
    "\n",
    "    result=(sum(target_list)/len(target_list))\n",
    "    result=round(result,2)\n",
    "    return(result)"
   ]
  },
  {
   "cell_type": "code",
   "execution_count": 3,
   "metadata": {},
   "outputs": [],
   "source": [
    "# 비수도권 지가변동률 평균 구하기\n",
    "def calculate_average_non_capital_area(x):\n",
    "    target=str(x)+'년'\n",
    "    target_data= df[f'{target}']\n",
    "    target_list=[]\n",
    "    for x in target_data[50:63]:\n",
    "        if x != '-':\n",
    "            target_list.append(float(x))\n",
    "    for x in target_data[63:72]:\n",
    "        if x != '-':\n",
    "            target_list.append(float(x))\n",
    "    for x in target_data[72:80]:\n",
    "        if x != '-':\n",
    "            target_list.append(float(x))\n",
    "    for x in target_data[109:116]:\n",
    "        if x != '-':\n",
    "            target_list.append(float(x))\n",
    "    for x in target_data[116:122]:\n",
    "        if x != '-':\n",
    "            target_list.append(float(x))\n",
    "    for x in target_data[122:128]:\n",
    "        if x != '-':\n",
    "            target_list.append(float(x))\n",
    "    for x in target_data[128]: #이거 다시 한번 체그해보기\n",
    "        if x != '-':\n",
    "            target_list.append(float(x))\n",
    "    for x in target_data[208:233]:\n",
    "        if x != '-':\n",
    "            target_list.append(float(x))\n",
    "    for x in target_data[235:258]:\n",
    "        if x != '-':\n",
    "            target_list.append(float(x))\n",
    "    for x in target_data[258:294]:\n",
    "        if x != '-':\n",
    "            target_list.append(float(x))\n",
    "    for x in target_data[296:320]:\n",
    "        if x != '-':\n",
    "            target_list.append(float(x))\n",
    "    for x in target_data[322:353]:\n",
    "        if x != '-':\n",
    "            target_list.append(float(x))\n",
    "    for x in target_data[355:395]:\n",
    "        if x != '-':\n",
    "            target_list.append(float(x))\n",
    "    for x in target_data[397:446]:\n",
    "        if x != '-':\n",
    "            target_list.append(float(x))\n",
    "    for x in target_data[448:453]:\n",
    "        if x != '-':\n",
    "            target_list.append(float(x))\n",
    "    \n",
    "    result=(sum(target_list)/len(target_list))\n",
    "    result=round(result,2)\n",
    "    return(result)\n"
   ]
  },
  {
   "cell_type": "code",
   "execution_count": 4,
   "metadata": {},
   "outputs": [],
   "source": [
    "# 데이터 프레임의 값을 수정하기\n",
    "for x in range(2006,2012):\n",
    "    target=str(x)+'년'\n",
    "    df.at[1,target]= calculate_average_capital_area(x)\n",
    "    df.at[2,target]= calculate_average_non_capital_area(x)"
   ]
  },
  {
   "cell_type": "code",
   "execution_count": 5,
   "metadata": {},
   "outputs": [],
   "source": [
    "capital_series=df.loc[1][34:]\n",
    "none_capital_series=df.loc[2][34:]\n",
    "\n",
    "capital_df=pd.DataFrame(capital_series)\n",
    "capital_df = capital_df.rename({1:'Capital_FLP'},axis=1)\n",
    "none_capital_df=pd.DataFrame(none_capital_series)\n",
    "none_capital_df = none_capital_df.rename({2:'None_Capital_FLP'},axis=1)\n"
   ]
  },
  {
   "cell_type": "code",
   "execution_count": 6,
   "metadata": {},
   "outputs": [
    {
     "data": {
      "text/plain": [
       "<matplotlib.legend.Legend at 0x23c7d7f7c70>"
      ]
     },
     "execution_count": 6,
     "metadata": {},
     "output_type": "execute_result"
    },
    {
     "data": {
      "image/png": "[encoded data removed]",
      "text/plain": [
       "<Figure size 720x720 with 1 Axes>"
      ]
     },
     "metadata": {
      "needs_background": "light"
     },
     "output_type": "display_data"
    }
   ],
   "source": [
    "#지가 변동률 시각화\n",
    "import matplotlib.pyplot as plt\n",
    "\n",
    "year=[]\n",
    "for i in range(2006,2022):\n",
    "    year.append(i)\n",
    "\n",
    "plt.figure(figsize=(10,10))\n",
    "plt.plot(year, capital_df, label='Capital FLP')\n",
    "plt.plot(year, none_capital_df, label='None Capital FLP')\n",
    "plt.legend()"
   ]
  }
 ],
 "metadata": {
  "kernelspec": {
   "display_name": "Python 3.8.8 ('base')",
   "language": "python",
   "name": "python3"
  },
  "language_info": {
   "codemirror_mode": {
    "name": "ipython",
    "version": 3
   },
   "file_extension": ".py",
   "mimetype": "text/x-python",
   "name": "python",
   "nbconvert_exporter": "python",
   "pygments_lexer": "ipython3",
   "version": "3.8.8"
  },
  "orig_nbformat": 4,
  "vscode": {
   "interpreter": {
    "hash": "e4cce46d6be9934fbd27f9ca0432556941ea5bdf741d4f4d64c6cd7f8dfa8fba"
   }
  }
 },
 "nbformat": 4,
 "nbformat_minor": 2
}
